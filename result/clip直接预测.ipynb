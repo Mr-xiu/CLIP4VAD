{
 "cells": [
  {
   "cell_type": "markdown",
   "source": [],
   "metadata": {
    "collapsed": false
   }
  },
  {
   "cell_type": "code",
   "execution_count": 1,
   "metadata": {
    "collapsed": true,
    "ExecuteTime": {
     "end_time": "2023-07-12T07:12:11.452728600Z",
     "start_time": "2023-07-12T07:12:06.936819600Z"
    }
   },
   "outputs": [],
   "source": [
    "import os\n",
    "import clip\n",
    "import torch\n",
    "# from torchvision.datasets import CIFAR100\n",
    "from avenue_dataset import AvenueDataset\n",
    "from auroc import get_auroc\n",
    "\n",
    "# Load the model\n",
    "device = \"cuda\" if torch.cuda.is_available() else \"cpu\"\n",
    "model, preprocess = clip.load('ViT-B/32', device)\n",
    "\n",
    "# # Download the dataset\n",
    "# cifar100 = CIFAR100(root=os.path.expanduser(\"~/.cache\"), download=True, train=False)\n",
    "\n",
    "# Prepare the inputs\n",
    "# image, class_id = cifar100[3637]\n",
    "\n",
    "\n",
    "\n"
   ]
  },
  {
   "cell_type": "markdown",
   "source": [
    "读取并处理数据集"
   ],
   "metadata": {
    "collapsed": false
   }
  },
  {
   "cell_type": "code",
   "execution_count": 2,
   "outputs": [],
   "source": [
    "avenue = AvenueDataset()\n",
    "\n",
    "\n",
    "def get_data(video_id=None):\n",
    "    image_dataset, true_list = avenue.get_video_data(video_id)\n",
    "    # image = [image_dataset[i] for i in range(len(image_dataset))]\n",
    "    image_input = []\n",
    "    for image in image_dataset:\n",
    "        image_input.append(preprocess(image).unsqueeze(0))\n",
    "    return image_input, true_list\n"
   ],
   "metadata": {
    "collapsed": false,
    "ExecuteTime": {
     "end_time": "2023-07-12T07:12:11.466479200Z",
     "start_time": "2023-07-12T07:12:11.454695Z"
    }
   }
  },
  {
   "cell_type": "code",
   "execution_count": 3,
   "outputs": [],
   "source": [
    "label_list = ['running but not walking', 'walking but not running', 'intrucing into camera', 'jumping', 'bycicle',\n",
    "              'dancing']\n",
    "label_list_seq = ['A picture outside the classroom', 'A man standing on the lawn', 'A person running anxiously',\n",
    "                  'A person jumped up', 'There\\'s a guy on a bike', 'A man is dancing', 'someone throws something high']\n",
    "\n",
    "# image_input = preprocess(image).unsqueeze(0).to(device)\n",
    "# text_inputs = torch.cat([clip.tokenize(f\"a photo of a {c}\") for c in cifar100.classes]).to(device)\n",
    "text_inputs = torch.cat([clip.tokenize(f\"{c}\") for c in label_list_seq]).to(device)"
   ],
   "metadata": {
    "collapsed": false,
    "ExecuteTime": {
     "end_time": "2023-07-12T07:12:11.481462500Z",
     "start_time": "2023-07-12T07:12:11.468483500Z"
    }
   }
  },
  {
   "cell_type": "markdown",
   "source": [
    "计算并得出结果"
   ],
   "metadata": {
    "collapsed": false
   }
  },
  {
   "cell_type": "code",
   "execution_count": 4,
   "outputs": [],
   "source": [
    "def get_result(image_input):\n",
    "    image_input = torch.cat(image_input, dim=0).to(device)\n",
    "    with torch.no_grad():\n",
    "        # image_features = model.encode_image(image_input)\n",
    "        # text_features = model.encode_text(text_inputs)\n",
    "        logits_per_img, logits_per_test = model(image_input, text_inputs)\n",
    "        probs = logits_per_img.softmax(dim=-1).cpu().numpy()\n",
    "    pred_list = [1 - x[0] for x in probs]\n",
    "    return pred_list\n"
   ],
   "metadata": {
    "collapsed": false,
    "ExecuteTime": {
     "end_time": "2023-07-12T07:12:11.497862100Z",
     "start_time": "2023-07-12T07:12:11.483973100Z"
    }
   }
  },
  {
   "cell_type": "code",
   "execution_count": null,
   "outputs": [
    {
     "name": "stdout",
     "output_type": "stream",
     "text": [
      "1/21\n",
      "1439 1439\n",
      "AUC :  0.468\n",
      "2/21\n",
      "1211 1211\n",
      "AUC :  0.61\n",
      "3/21\n",
      "923 923\n",
      "AUC :  0.909\n",
      "4/21\n",
      "947 947\n",
      "AUC :  0.818\n",
      "5/21\n",
      "1007 1007\n",
      "AUC :  0.73\n",
      "6/21\n",
      "1283 1283\n",
      "AUC :  0.67\n",
      "7/21\n",
      "605 605\n",
      "AUC :  0.866\n",
      "8/21\n",
      "36 36\n",
      "AUC :  0.743\n",
      "9/21\n",
      "1175 1175\n",
      "AUC :  0.346\n",
      "10/21\n",
      "841 841\n",
      "AUC :  0.539\n",
      "11/21\n",
      "472 472\n",
      "AUC :  0.816\n",
      "12/21\n",
      "1271 1271\n",
      "AUC :  0.627\n",
      "13/21\n",
      "549 549\n",
      "AUC :  0.78\n",
      "14/21\n",
      "507 507\n",
      "AUC :  0.727\n",
      "15/21\n",
      "1001 1001\n",
      "AUC :  0.619\n",
      "16/21\n",
      "740 740\n",
      "AUC :  0.921\n",
      "17/21\n",
      "426 426\n",
      "AUC :  0.889\n",
      "18/21\n",
      "294 294\n"
     ]
    }
   ],
   "source": [
    "pred_list_all = []\n",
    "true_list_all = []\n",
    "for i in range(21):\n",
    "    image_input, true_list = get_data()\n",
    "    pred_list = get_result(image_input)\n",
    "    print(f'{i+1}/21')\n",
    "    get_auroc(true_list, pred_list,f'video:{i+1}')\n",
    "    pred_list_all.extend(pred_list)\n",
    "    true_list_all.extend(true_list)\n",
    "\n",
    "# image_input, true_list = get_data('05')\n",
    "# pred_list = get_result(image_input)\n",
    "# get_auroc(true_list, pred_list,f'video:8')\n",
    "# pred_list_all.extend(pred_list)\n",
    "# true_list_all.extend(true_list)"
   ],
   "metadata": {
    "collapsed": false,
    "is_executing": true,
    "ExecuteTime": {
     "start_time": "2023-07-12T07:12:11.498861300Z"
    }
   }
  },
  {
   "cell_type": "code",
   "execution_count": null,
   "outputs": [],
   "source": [
    "# pred_list = [x[0] for x in pred_list]\n",
    "# get_auroc(true_list, Standard_data)\n",
    "get_auroc(true_list_all, pred_list_all,f'video sum')"
   ],
   "metadata": {
    "collapsed": false,
    "is_executing": true
   }
  },
  {
   "cell_type": "code",
   "execution_count": null,
   "outputs": [],
   "source": [
    "\n"
   ],
   "metadata": {
    "collapsed": false,
    "is_executing": true
   }
  },
  {
   "cell_type": "code",
   "execution_count": null,
   "outputs": [],
   "source": [],
   "metadata": {
    "collapsed": false,
    "is_executing": true
   }
  }
 ],
 "metadata": {
  "kernelspec": {
   "display_name": "Python 3",
   "language": "python",
   "name": "python3"
  },
  "language_info": {
   "codemirror_mode": {
    "name": "ipython",
    "version": 2
   },
   "file_extension": ".py",
   "mimetype": "text/x-python",
   "name": "python",
   "nbconvert_exporter": "python",
   "pygments_lexer": "ipython2",
   "version": "2.7.6"
  }
 },
 "nbformat": 4,
 "nbformat_minor": 0
}
